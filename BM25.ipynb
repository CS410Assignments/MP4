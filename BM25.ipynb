{
 "cells": [
  {
   "cell_type": "code",
   "execution_count": 2,
   "id": "starting-wayne",
   "metadata": {},
   "outputs": [],
   "source": [
    "import json"
   ]
  },
  {
   "cell_type": "code",
   "execution_count": 6,
   "id": "senior-excerpt",
   "metadata": {},
   "outputs": [],
   "source": [
    "doc_id = -1\n",
    "with open('documents.txt','r') as f:\n",
    "    with open('collection.jsonl','w') as w:\n",
    "        for l in f:\n",
    "            l = l.strip()\n",
    "            doc_id += 1\n",
    "            data = {\"id\": str(doc_id), \"contents\": l}\n",
    "            w.write(json.dumps(data))\n",
    "            w.write('\\n')"
   ]
  },
  {
   "cell_type": "code",
   "execution_count": null,
   "id": "framed-kelly",
   "metadata": {},
   "outputs": [],
   "source": [
    "python -m pyserini.index.lucene \\\n",
    "  --collection JsonCollection \\\n",
    "  --input tests/resources/sample_collection_jsonl \\\n",
    "  --index indexes/sample_collection_jsonl \\\n",
    "  --generator DefaultLuceneDocumentGenerator \\\n",
    "  --threads 1 \\\n",
    "  --storePositions --storeDocvectors --storeRaw"
   ]
  }
 ],
 "metadata": {
  "kernelspec": {
   "display_name": "Python 3.9.2 ('512DM')",
   "language": "python",
   "name": "python3"
  },
  "language_info": {
   "codemirror_mode": {
    "name": "ipython",
    "version": 3
   },
   "file_extension": ".py",
   "mimetype": "text/x-python",
   "name": "python",
   "nbconvert_exporter": "python",
   "pygments_lexer": "ipython3",
   "version": "3.9.2"
  },
  "vscode": {
   "interpreter": {
    "hash": "63a51fb086e7aadc42094788305e5ebd0aee7afdf996e6ddd5596580c8adae8a"
   }
  }
 },
 "nbformat": 4,
 "nbformat_minor": 5
}
