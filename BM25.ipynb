{
 "cells": [
  {
   "cell_type": "markdown",
   "id": "df6e5d0e",
   "metadata": {},
   "source": [
    "# Creating Base BM25 Candidate using Pyserini"
   ]
  },
  {
   "cell_type": "markdown",
   "id": "c3b0f434",
   "metadata": {},
   "source": [
    "First. We will create a candidate BM25 candidate ranking using the Pyserini library. This library is a python wrapper on Anserini which is a wrapper on lucene. First we format data in the format Pyserini expects to produce our collection file. "
   ]
  },
  {
   "cell_type": "code",
   "execution_count": 2,
   "id": "starting-wayne",
   "metadata": {},
   "outputs": [],
   "source": [
    "import json\n",
    "doc_id = -1\n",
    "with open('data/documents.txt','r') as f:\n",
    "    with open('data/collection.jsonl','w') as w:\n",
    "        for l in f:\n",
    "            l = l.strip()\n",
    "            doc_id += 1\n",
    "            data = {\"id\": str(doc_id), \"contents\": l}\n",
    "            w.write(json.dumps(data))\n",
    "            w.write('\\n')"
   ]
  },
  {
   "cell_type": "markdown",
   "id": "2c2c57b3",
   "metadata": {},
   "source": [
    "Once we have the data in our intended format we go ahead and create an index"
   ]
  },
  {
   "cell_type": "code",
   "execution_count": null,
   "id": "effaeaa3",
   "metadata": {},
   "outputs": [],
   "source": [
    "! python -m pyserini.index.lucene \\\n",
    "  --collection JsonCollection \\\n",
    "  --input data/ \\\n",
    "  --index indexes/410 \\\n",
    "  --generator DefaultLuceneDocumentGenerator \\\n",
    "  --threads 1 \\\n",
    "  --storePositions --storeDocvectors --storeRaw"
   ]
  },
  {
   "cell_type": "markdown",
   "id": "3380c915",
   "metadata": {},
   "source": [
    "Now that we have our index we go ahead and retrieve making a TREC formated ranking."
   ]
  },
  {
   "cell_type": "code",
   "execution_count": null,
   "id": "deccfd61",
   "metadata": {},
   "outputs": [],
   "source": [
    "from pyserini.search.lucene import LuceneSearcher\n",
    "searcher = LuceneSearcher('indexes/410')\n",
    "qid = 1\n",
    "with open(\"data/queries.txt\",'r') as f:\n",
    "    with open('bm25-top1000.trec','w') as w:\n",
    "        for l in f:\n",
    "            query = l.strip()\n",
    "            hits = searcher.search(query,k=1000)\n",
    "            for i in range(len(hits)):\n",
    "                w.write(f'{qid:5}\\t{0}\\t{hits[i].docid:4}\\t{i+1:2}\\t{hits[i].score:.5f}\\tbm25\\n')\n",
    "            qid += 1"
   ]
  },
  {
   "cell_type": "markdown",
   "id": "bf1f5716",
   "metadata": {},
   "source": []
  }
 ],
 "metadata": {
  "kernelspec": {
   "display_name": "Python 3.9.2 ('512DM')",
   "language": "python",
   "name": "python3"
  },
  "language_info": {
   "codemirror_mode": {
    "name": "ipython",
    "version": 3
   },
   "file_extension": ".py",
   "mimetype": "text/x-python",
   "name": "python",
   "nbconvert_exporter": "python",
   "pygments_lexer": "ipython3",
   "version": "3.9.2"
  },
  "vscode": {
   "interpreter": {
    "hash": "63a51fb086e7aadc42094788305e5ebd0aee7afdf996e6ddd5596580c8adae8a"
   }
  }
 },
 "nbformat": 4,
 "nbformat_minor": 5
}
