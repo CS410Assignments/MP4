{
 "cells": [
  {
   "cell_type": "markdown",
   "id": "danish-cream",
   "metadata": {},
   "source": [
    "# Semantic Search using Language Models and Nearest Neighbor Indexes"
   ]
  },
  {
   "cell_type": "markdown",
   "id": "indoor-dollar",
   "metadata": {},
   "source": [
    "Go ahead and install these libraries\n"
   ]
  },
  {
   "cell_type": "code",
   "execution_count": 20,
   "id": "authorized-courage",
   "metadata": {},
   "outputs": [
    {
     "name": "stdout",
     "output_type": "stream",
     "text": [
      "Requirement already satisfied: sentence-transformers in /home/spacemanidol/miniconda3/lib/python3.8/site-packages (2.2.2)\n",
      "Requirement already satisfied: faiss-cpu in /home/spacemanidol/miniconda3/lib/python3.8/site-packages (1.6.5)\n",
      "Requirement already satisfied: ir-measures in /home/spacemanidol/miniconda3/lib/python3.8/site-packages (0.3.1)\n",
      "Collecting pyserini\n",
      "  Using cached pyserini-0.18.0-py3-none-any.whl (114.8 MB)\n",
      "Requirement already satisfied: torch in /home/spacemanidol/miniconda3/lib/python3.8/site-packages (1.6.0)\n",
      "Requirement already satisfied: huggingface-hub>=0.4.0 in /home/spacemanidol/miniconda3/lib/python3.8/site-packages (from sentence-transformers) (0.9.0)\n",
      "Requirement already satisfied: tqdm in /home/spacemanidol/.local/lib/python3.8/site-packages (from sentence-transformers) (4.62.2)\n",
      "Requirement already satisfied: torchvision in /home/spacemanidol/miniconda3/lib/python3.8/site-packages (from sentence-transformers) (0.7.0)\n",
      "Requirement already satisfied: numpy in /home/spacemanidol/.local/lib/python3.8/site-packages (from sentence-transformers) (1.23.3)\n",
      "Requirement already satisfied: scikit-learn in /home/spacemanidol/miniconda3/lib/python3.8/site-packages (from sentence-transformers) (0.24.1)\n",
      "Requirement already satisfied: scipy in /home/spacemanidol/miniconda3/lib/python3.8/site-packages (from sentence-transformers) (1.5.4)\n",
      "Requirement already satisfied: nltk in /home/spacemanidol/miniconda3/lib/python3.8/site-packages (from sentence-transformers) (3.7)\n",
      "Requirement already satisfied: sentencepiece in /home/spacemanidol/miniconda3/lib/python3.8/site-packages (from sentence-transformers) (0.1.97)\n",
      "Requirement already satisfied: transformers<5.0.0,>=4.6.0 in /home/spacemanidol/miniconda3/lib/python3.8/site-packages (from sentence-transformers) (4.21.1)\n",
      "Requirement already satisfied: cwl-eval>=1.0.10 in /home/spacemanidol/miniconda3/lib/python3.8/site-packages (from ir-measures) (1.0.10)\n",
      "Requirement already satisfied: pytrec-eval-terrier>=0.5.2 in /home/spacemanidol/miniconda3/lib/python3.8/site-packages (from ir-measures) (0.5.4)\n",
      "Requirement already satisfied: spacy>=3.2.1 in /home/spacemanidol/miniconda3/lib/python3.8/site-packages (from pyserini) (3.4.1)\n",
      "Collecting onnxruntime>=1.8.1\n",
      "  Using cached onnxruntime-1.12.1-cp38-cp38-manylinux_2_17_x86_64.manylinux2014_x86_64.whl (5.5 MB)\n",
      "Requirement already satisfied: pyjnius>=1.4.0 in /home/spacemanidol/miniconda3/lib/python3.8/site-packages (from pyserini) (1.4.2)\n",
      "Requirement already satisfied: nmslib>=2.1.1 in /home/spacemanidol/miniconda3/lib/python3.8/site-packages (from pyserini) (2.1.1)\n",
      "Requirement already satisfied: Cython>=0.29.21 in /home/spacemanidol/miniconda3/lib/python3.8/site-packages (from pyserini) (0.29.23)\n",
      "Requirement already satisfied: pandas>=1.1.5 in /home/spacemanidol/miniconda3/lib/python3.8/site-packages (from pyserini) (1.5.0)\n",
      "Requirement already satisfied: lightgbm>=3.3.2 in /home/spacemanidol/miniconda3/lib/python3.8/site-packages (from pyserini) (3.3.2)\n",
      "Requirement already satisfied: future in /home/spacemanidol/miniconda3/lib/python3.8/site-packages (from torch) (0.18.2)\n",
      "Requirement already satisfied: requests in /home/spacemanidol/miniconda3/lib/python3.8/site-packages (from huggingface-hub>=0.4.0->sentence-transformers) (2.23.0)\n",
      "Requirement already satisfied: packaging>=20.9 in /home/spacemanidol/.local/lib/python3.8/site-packages (from huggingface-hub>=0.4.0->sentence-transformers) (20.9)\n",
      "Requirement already satisfied: pyyaml>=5.1 in /home/spacemanidol/miniconda3/lib/python3.8/site-packages (from huggingface-hub>=0.4.0->sentence-transformers) (5.3.1)\n",
      "Requirement already satisfied: filelock in /home/spacemanidol/miniconda3/lib/python3.8/site-packages (from huggingface-hub>=0.4.0->sentence-transformers) (3.0.12)\n",
      "Requirement already satisfied: typing-extensions>=3.7.4.3 in /home/spacemanidol/miniconda3/lib/python3.8/site-packages (from huggingface-hub>=0.4.0->sentence-transformers) (3.7.4.3)\n",
      "Requirement already satisfied: pillow>=4.1.1 in /home/spacemanidol/miniconda3/lib/python3.8/site-packages (from torchvision->sentence-transformers) (8.0.1)\n",
      "Requirement already satisfied: joblib>=0.11 in /home/spacemanidol/miniconda3/lib/python3.8/site-packages (from scikit-learn->sentence-transformers) (0.17.0)\n",
      "Requirement already satisfied: threadpoolctl>=2.0.0 in /home/spacemanidol/miniconda3/lib/python3.8/site-packages (from scikit-learn->sentence-transformers) (2.1.0)\n",
      "Requirement already satisfied: regex>=2021.8.3 in /home/spacemanidol/.local/lib/python3.8/site-packages (from nltk->sentence-transformers) (2021.8.28)\n",
      "Requirement already satisfied: click in /home/spacemanidol/miniconda3/lib/python3.8/site-packages (from nltk->sentence-transformers) (8.0.0)\n",
      "Requirement already satisfied: tokenizers!=0.11.3,<0.13,>=0.11.1 in /home/spacemanidol/.local/lib/python3.8/site-packages (from transformers<5.0.0,>=4.6.0->sentence-transformers) (0.12.1)\n",
      "Requirement already satisfied: preshed<3.1.0,>=3.0.2 in /home/spacemanidol/miniconda3/lib/python3.8/site-packages (from spacy>=3.2.1->pyserini) (3.0.5)\n",
      "Requirement already satisfied: pathy>=0.3.5 in /home/spacemanidol/miniconda3/lib/python3.8/site-packages (from spacy>=3.2.1->pyserini) (0.6.2)\n",
      "Requirement already satisfied: spacy-legacy<3.1.0,>=3.0.9 in /home/spacemanidol/miniconda3/lib/python3.8/site-packages (from spacy>=3.2.1->pyserini) (3.0.10)\n",
      "Requirement already satisfied: pydantic!=1.8,!=1.8.1,<1.10.0,>=1.7.4 in /home/spacemanidol/miniconda3/lib/python3.8/site-packages (from spacy>=3.2.1->pyserini) (1.9.2)\n",
      "Requirement already satisfied: jinja2 in /home/spacemanidol/miniconda3/lib/python3.8/site-packages (from spacy>=3.2.1->pyserini) (2.11.3)\n",
      "Requirement already satisfied: cymem<2.1.0,>=2.0.2 in /home/spacemanidol/miniconda3/lib/python3.8/site-packages (from spacy>=3.2.1->pyserini) (2.0.5)\n",
      "Requirement already satisfied: setuptools in /home/spacemanidol/miniconda3/lib/python3.8/site-packages (from spacy>=3.2.1->pyserini) (46.4.0.post20200518)\n",
      "Requirement already satisfied: murmurhash<1.1.0,>=0.28.0 in /home/spacemanidol/miniconda3/lib/python3.8/site-packages (from spacy>=3.2.1->pyserini) (1.0.5)\n",
      "Requirement already satisfied: srsly<3.0.0,>=2.4.3 in /home/spacemanidol/miniconda3/lib/python3.8/site-packages (from spacy>=3.2.1->pyserini) (2.4.4)\n",
      "Requirement already satisfied: wasabi<1.1.0,>=0.9.1 in /home/spacemanidol/miniconda3/lib/python3.8/site-packages (from spacy>=3.2.1->pyserini) (0.10.1)\n",
      "Requirement already satisfied: spacy-loggers<2.0.0,>=1.0.0 in /home/spacemanidol/miniconda3/lib/python3.8/site-packages (from spacy>=3.2.1->pyserini) (1.0.3)\n",
      "Requirement already satisfied: typer<0.5.0,>=0.3.0 in /home/spacemanidol/miniconda3/lib/python3.8/site-packages (from spacy>=3.2.1->pyserini) (0.4.2)\n",
      "Requirement already satisfied: langcodes<4.0.0,>=3.2.0 in /home/spacemanidol/miniconda3/lib/python3.8/site-packages (from spacy>=3.2.1->pyserini) (3.3.0)\n",
      "Requirement already satisfied: thinc<8.2.0,>=8.1.0 in /home/spacemanidol/miniconda3/lib/python3.8/site-packages (from spacy>=3.2.1->pyserini) (8.1.2)\n",
      "Requirement already satisfied: catalogue<2.1.0,>=2.0.6 in /home/spacemanidol/miniconda3/lib/python3.8/site-packages (from spacy>=3.2.1->pyserini) (2.0.8)\n",
      "Requirement already satisfied: coloredlogs in /home/spacemanidol/.local/lib/python3.8/site-packages (from onnxruntime>=1.8.1->pyserini) (15.0)\n",
      "Requirement already satisfied: protobuf in /home/spacemanidol/.local/lib/python3.8/site-packages (from onnxruntime>=1.8.1->pyserini) (3.17.3)\n",
      "Requirement already satisfied: flatbuffers in /home/spacemanidol/miniconda3/lib/python3.8/site-packages (from onnxruntime>=1.8.1->pyserini) (1.12)\n",
      "Requirement already satisfied: sympy in /home/spacemanidol/.local/lib/python3.8/site-packages (from onnxruntime>=1.8.1->pyserini) (1.11.1)\n",
      "Requirement already satisfied: six>=1.7.0 in /home/spacemanidol/miniconda3/lib/python3.8/site-packages (from pyjnius>=1.4.0->pyserini) (1.15.0)\n",
      "Requirement already satisfied: psutil in /home/spacemanidol/miniconda3/lib/python3.8/site-packages (from nmslib>=2.1.1->pyserini) (5.8.0)\n",
      "Requirement already satisfied: pybind11<2.6.2 in /home/spacemanidol/miniconda3/lib/python3.8/site-packages (from nmslib>=2.1.1->pyserini) (2.6.1)\n"
     ]
    },
    {
     "name": "stdout",
     "output_type": "stream",
     "text": [
      "Requirement already satisfied: python-dateutil>=2.8.1 in /home/spacemanidol/miniconda3/lib/python3.8/site-packages (from pandas>=1.1.5->pyserini) (2.8.1)\n",
      "Requirement already satisfied: pytz>=2020.1 in /home/spacemanidol/miniconda3/lib/python3.8/site-packages (from pandas>=1.1.5->pyserini) (2020.1)\n",
      "Requirement already satisfied: wheel in /home/spacemanidol/miniconda3/lib/python3.8/site-packages (from lightgbm>=3.3.2->pyserini) (0.37.1)\n",
      "Requirement already satisfied: idna<3,>=2.5 in /home/spacemanidol/miniconda3/lib/python3.8/site-packages (from requests->huggingface-hub>=0.4.0->sentence-transformers) (2.9)\n",
      "Requirement already satisfied: chardet<4,>=3.0.2 in /home/spacemanidol/miniconda3/lib/python3.8/site-packages (from requests->huggingface-hub>=0.4.0->sentence-transformers) (3.0.4)\n",
      "Requirement already satisfied: urllib3!=1.25.0,!=1.25.1,<1.26,>=1.21.1 in /home/spacemanidol/miniconda3/lib/python3.8/site-packages (from requests->huggingface-hub>=0.4.0->sentence-transformers) (1.25.8)\n",
      "Requirement already satisfied: certifi>=2017.4.17 in /home/spacemanidol/miniconda3/lib/python3.8/site-packages (from requests->huggingface-hub>=0.4.0->sentence-transformers) (2022.9.24)\n",
      "Requirement already satisfied: pyparsing>=2.0.2 in /home/spacemanidol/miniconda3/lib/python3.8/site-packages (from packaging>=20.9->huggingface-hub>=0.4.0->sentence-transformers) (2.4.7)\n",
      "Requirement already satisfied: smart-open<6.0.0,>=5.2.1 in /home/spacemanidol/miniconda3/lib/python3.8/site-packages (from pathy>=0.3.5->spacy>=3.2.1->pyserini) (5.2.1)\n",
      "Requirement already satisfied: MarkupSafe>=0.23 in /home/spacemanidol/miniconda3/lib/python3.8/site-packages (from jinja2->spacy>=3.2.1->pyserini) (1.1.1)\n",
      "Requirement already satisfied: confection<1.0.0,>=0.0.1 in /home/spacemanidol/miniconda3/lib/python3.8/site-packages (from thinc<8.2.0,>=8.1.0->spacy>=3.2.1->pyserini) (0.0.2)\n",
      "Requirement already satisfied: blis<0.8.0,>=0.7.8 in /home/spacemanidol/miniconda3/lib/python3.8/site-packages (from thinc<8.2.0,>=8.1.0->spacy>=3.2.1->pyserini) (0.7.8)\n",
      "Requirement already satisfied: humanfriendly>=9.1 in /home/spacemanidol/.local/lib/python3.8/site-packages (from coloredlogs->onnxruntime>=1.8.1->pyserini) (9.1)\n",
      "Requirement already satisfied: mpmath>=0.19 in /home/spacemanidol/.local/lib/python3.8/site-packages (from sympy->onnxruntime>=1.8.1->pyserini) (1.2.1)\n",
      "Installing collected packages: onnxruntime, pyserini\n",
      "  Attempting uninstall: onnxruntime\n",
      "    Found existing installation: onnxruntime 1.6.0\n",
      "    Uninstalling onnxruntime-1.6.0:\n",
      "      Successfully uninstalled onnxruntime-1.6.0\n",
      "Successfully installed onnxruntime-1.12.1 pyserini-0.18.0\n"
     ]
    }
   ],
   "source": [
    " ! pip install transformers ir-measures torch "
   ]
  },
  {
   "cell_type": "markdown",
   "id": "hollow-comfort",
   "metadata": {},
   "source": [
    "Cross encoders are an easy to understand application of Language Models as they treate relevance as a binary classification task. A query and a document are concatenated and separated by [SEP] token and a model learns to predict if a query document pair is relevant or not. This method is incredibly effective despite its simplicity. While effective, this approach is not efficient from an inference perspective. If we want to run this on 10,000 documents and 10,000 queries we will have to use our model 100m times while the same approach requires 20,000 model calls for a bi-encoder. This inefficiency is why cross-encoders are mostly used for reranking. "
   ]
  },
  {
   "cell_type": "markdown",
   "id": "english-permission",
   "metadata": {},
   "source": [
    "Before we explore cross encoders for reranking and relevance estimation. We will be using the Sentence Transformers library which is a Language Model library which is optimized for representing sentences as text."
   ]
  },
  {
   "cell_type": "markdown",
   "id": "global-sculpture",
   "metadata": {},
   "source": [
    "## ReRanking With Transformers"
   ]
  },
  {
   "cell_type": "markdown",
   "id": "derived-duncan",
   "metadata": {},
   "source": [
    "Import the needed libraries"
   ]
  },
  {
   "cell_type": "code",
   "execution_count": null,
   "id": "stupid-mumbai",
   "metadata": {},
   "outputs": [],
   "source": [
    "from transformers import AutoTokenizer, AutoModelForSequenceClassification\n",
    "import torch"
   ]
  },
  {
   "cell_type": "markdown",
   "id": "helpful-fight",
   "metadata": {},
   "source": [
    "Load the model and the tokenizer, which prepares text for usage with the model"
   ]
  },
  {
   "cell_type": "code",
   "execution_count": 3,
   "id": "dental-frame",
   "metadata": {},
   "outputs": [],
   "source": [
    "model = AutoModelForSequenceClassification.from_pretrained('cross-encoder/ms-marco-electra-base')\n",
    "tokenizer = AutoTokenizer.from_pretrained('cross-encoder/ms-marco-electra-base')"
   ]
  },
  {
   "cell_type": "markdown",
   "id": "alpine-vegetation",
   "metadata": {},
   "source": [
    "Lets go ahead and look at some examplex. Note that for each comparison I am repeating the query. Each usage requires another complete run of the model"
   ]
  },
  {
   "cell_type": "code",
   "execution_count": null,
   "id": "3f4b06ff",
   "metadata": {},
   "outputs": [],
   "source": [
    "features = tokenizer(['How many people live in Berlin?', 'How many people live in Berlin?'], ['Berlin has a population of 3,520,031 registered inhabitants in an area of 891.82 square kilometers.', 'New York City is famous for the Metropolitan Museum of Art.'],  padding=True, truncation=True, return_tensors=\"pt\")\n",
    "model.eval() # turns off dropout\n",
    "with torch.no_grad(): #save memory and speed by not calculating backward pass or storing gradient\n",
    "    scores = model(**features).logits\n",
    "    print(scores)\n"
   ]
  },
  {
   "cell_type": "markdown",
   "id": "laughing-press",
   "metadata": {},
   "source": [
    "Using this same approach you will implement a reranking function that given a set of candidate documents and a query, will rerank them with a cross encoder. "
   ]
  }
 ],
 "metadata": {
  "kernelspec": {
   "display_name": "Python 3",
   "language": "python",
   "name": "python3"
  },
  "language_info": {
   "codemirror_mode": {
    "name": "ipython",
    "version": 3
   },
   "file_extension": ".py",
   "mimetype": "text/x-python",
   "name": "python",
   "nbconvert_exporter": "python",
   "pygments_lexer": "ipython3",
   "version": "3.8.3"
  }
 },
 "nbformat": 4,
 "nbformat_minor": 5
}
